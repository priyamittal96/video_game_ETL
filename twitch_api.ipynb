{
 "cells": [
  {
   "cell_type": "code",
   "execution_count": 18,
   "metadata": {},
   "outputs": [
    {
     "name": "stdout",
     "output_type": "stream",
     "text": [
      "Collecting python-twitch-client\n",
      "  Downloading python_twitch_client-0.7.1-py3-none-any.whl (20 kB)\n",
      "Collecting requests>=2.23.0\n",
      "  Downloading requests-2.25.1-py2.py3-none-any.whl (61 kB)\n",
      "\u001b[K     |████████████████████████████████| 61 kB 1.7 MB/s eta 0:00:011\n",
      "\u001b[?25hRequirement already satisfied: idna<3,>=2.5 in /Users/priyamittal/anaconda3/lib/python3.6/site-packages (from requests>=2.23.0->python-twitch-client) (2.6)\n",
      "Requirement already satisfied: chardet<5,>=3.0.2 in /Users/priyamittal/anaconda3/lib/python3.6/site-packages (from requests>=2.23.0->python-twitch-client) (3.0.4)\n",
      "Requirement already satisfied: certifi>=2017.4.17 in /Users/priyamittal/anaconda3/lib/python3.6/site-packages (from requests>=2.23.0->python-twitch-client) (2018.1.18)\n",
      "Requirement already satisfied: urllib3<1.27,>=1.21.1 in /Users/priyamittal/anaconda3/lib/python3.6/site-packages (from requests>=2.23.0->python-twitch-client) (1.22)\n",
      "Installing collected packages: requests, python-twitch-client\n",
      "  Attempting uninstall: requests\n",
      "    Found existing installation: requests 2.18.4\n",
      "    Uninstalling requests-2.18.4:\n",
      "      Successfully uninstalled requests-2.18.4\n",
      "Successfully installed python-twitch-client-0.7.1 requests-2.25.1\n"
     ]
    }
   ],
   "source": [
    "!pip3 install python-twitch-client"
   ]
  },
  {
   "cell_type": "code",
   "execution_count": 13,
   "metadata": {},
   "outputs": [],
   "source": [
    "import matplotlib.pyplot as plt\n",
    "import pandas as pd\n",
    "import numpy as np\n",
    "import requests\n",
    "import time\n",
    "from scipy.stats import linregress"
   ]
  },
  {
   "cell_type": "code",
   "execution_count": 30,
   "metadata": {},
   "outputs": [],
   "source": [
    "from api_keys import client_id\n",
    "from twitch import TwitchClient\n",
    "from pprint import pprint\n"
   ]
  },
  {
   "cell_type": "code",
   "execution_count": 24,
   "metadata": {},
   "outputs": [],
   "source": [
    "client = TwitchClient(client_id= f'{client_id}')\n"
   ]
  },
  {
   "cell_type": "code",
   "execution_count": 38,
   "metadata": {},
   "outputs": [],
   "source": [
    "games = client.games.get_top(50)"
   ]
  },
  {
   "cell_type": "code",
   "execution_count": 40,
   "metadata": {},
   "outputs": [
    {
     "name": "stdout",
     "output_type": "stream",
     "text": [
      "{'channels': 329,\n",
      " 'game': {'box': {'large': 'https://static-cdn.jtvnw.net/ttv-boxart/Teamfight%20Tactics-272x380.jpg',\n",
      "                  'medium': 'https://static-cdn.jtvnw.net/ttv-boxart/Teamfight%20Tactics-136x190.jpg',\n",
      "                  'small': 'https://static-cdn.jtvnw.net/ttv-boxart/Teamfight%20Tactics-52x72.jpg',\n",
      "                  'template': 'https://static-cdn.jtvnw.net/ttv-boxart/Teamfight%20Tactics-{width}x{height}.jpg'},\n",
      "          'giantbomb_id': 0,\n",
      "          'id': 513143,\n",
      "          'locale': 'en-us',\n",
      "          'localized_name': 'Teamfight Tactics',\n",
      "          'logo': {'large': 'https://static-cdn.jtvnw.net/ttv-logoart/Teamfight%20Tactics-240x144.jpg',\n",
      "                   'medium': 'https://static-cdn.jtvnw.net/ttv-logoart/Teamfight%20Tactics-120x72.jpg',\n",
      "                   'small': 'https://static-cdn.jtvnw.net/ttv-logoart/Teamfight%20Tactics-60x36.jpg',\n",
      "                   'template': 'https://static-cdn.jtvnw.net/ttv-logoart/Teamfight%20Tactics-{width}x{height}.jpg'},\n",
      "          'name': 'Teamfight Tactics'},\n",
      " 'viewers': 12181}\n"
     ]
    }
   ],
   "source": [
    "pprint(games[35])"
   ]
  },
  {
   "cell_type": "code",
   "execution_count": null,
   "metadata": {},
   "outputs": [],
   "source": []
  }
 ],
 "metadata": {
  "kernelspec": {
   "display_name": "Python 3",
   "language": "python",
   "name": "python3"
  },
  "language_info": {
   "codemirror_mode": {
    "name": "ipython",
    "version": 3
   },
   "file_extension": ".py",
   "mimetype": "text/x-python",
   "name": "python",
   "nbconvert_exporter": "python",
   "pygments_lexer": "ipython3",
   "version": "3.6.4"
  }
 },
 "nbformat": 4,
 "nbformat_minor": 2
}
